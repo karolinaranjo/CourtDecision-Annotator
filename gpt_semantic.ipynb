{
 "cells": [
  {
   "cell_type": "code",
   "execution_count": 1,
   "metadata": {},
   "outputs": [],
   "source": [
    "import pdf_segmenter_utils as kpdf\n",
    "import kutils as krusty\n",
    "import pandas as pd\n",
    "#import os\n",
    "import llm_benchmarking_utils as llm_utils\n",
    "import json"
   ]
  },
  {
   "cell_type": "code",
   "execution_count": 2,
   "metadata": {},
   "outputs": [],
   "source": [
    "df_docs = pd.read_csv('annotated_data/df_docs.csv')\n",
    "df_format = pd.read_csv('annotated_data/df_format_es.csv')\n",
    "df_semantic = pd.read_csv('annotated_data/df_semantic_es.csv')"
   ]
  },
  {
   "cell_type": "code",
   "execution_count": null,
   "metadata": {},
   "outputs": [],
   "source": [
    "len(df_format)"
   ]
  },
  {
   "cell_type": "code",
   "execution_count": 3,
   "metadata": {},
   "outputs": [
    {
     "name": "stdout",
     "output_type": "stream",
     "text": [
      "Table already exists.\n",
      "CPU times: user 34min 47s, sys: 32 s, total: 35min 19s\n",
      "Wall time: 35min 28s\n"
     ]
    }
   ],
   "source": [
    "%%time\n",
    "df_res= llm_utils.semantic_df_for_GPT(df_docs, df_format,df_semantic, \"PDFs\", num_samples=30000) \n",
    "#df_res=llm_utils.semantic_df_for_GPT2(df_docs, df_format,df_semantic, \"PDFs\")"
   ]
  },
  {
   "cell_type": "code",
   "execution_count": 4,
   "metadata": {},
   "outputs": [],
   "source": [
    "df_res.to_csv('annotated_data/df_res_semantic.csv', index=False)"
   ]
  },
  {
   "cell_type": "code",
   "execution_count": null,
   "metadata": {},
   "outputs": [],
   "source": [
    "prompt = f\"\"\" Dentro del siguiente fragmento de una sentencia de la corte constitucional de Colombia, clasifique las diferentes partes texto usando una de las siguientes categorías:\n",
    "'énfasis',\n",
    " 'normal',\n",
    " 'citación',\n",
    " 'pie de página_énfasis',\n",
    " 'pie de página',\n",
    " 'pie de página_cita',\n",
    " 'cita_énfasis',\n",
    " 'pie de página_énfasis_cita',\n",
    " 'título_énfasis',\n",
    " 'título',\n",
    " 'título_citación',\n",
    " 'título_cita_énfasis'\n",
    "Provea el resultado conforme a la categoría seleccionada y no diga nada más.\n",
    "\n",
    "\"\"\""
   ]
  },
  {
   "cell_type": "code",
   "execution_count": null,
   "metadata": {},
   "outputs": [],
   "source": [
    "llama_json=llm_utils.convert_df_to_llama_json(df_res, prompt, json_file=\"json_test.json\")"
   ]
  },
  {
   "cell_type": "code",
   "execution_count": null,
   "metadata": {},
   "outputs": [],
   "source": [
    "llama_json"
   ]
  }
 ],
 "metadata": {
  "kernelspec": {
   "display_name": "eta",
   "language": "python",
   "name": "python3"
  },
  "language_info": {
   "codemirror_mode": {
    "name": "ipython",
    "version": 3
   },
   "file_extension": ".py",
   "mimetype": "text/x-python",
   "name": "python",
   "nbconvert_exporter": "python",
   "pygments_lexer": "ipython3",
   "version": "3.9.16"
  }
 },
 "nbformat": 4,
 "nbformat_minor": 2
}
