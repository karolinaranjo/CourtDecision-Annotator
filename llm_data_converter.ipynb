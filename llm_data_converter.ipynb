{
 "cells": [
  {
   "cell_type": "code",
   "execution_count": 47,
   "id": "cae25d19",
   "metadata": {},
   "outputs": [],
   "source": [
    "import pandas as pd\n",
    "from tqdm import tqdm\n",
    "import json\n",
    "import os"
   ]
  },
  {
   "cell_type": "code",
   "execution_count": 2,
   "metadata": {},
   "outputs": [],
   "source": [
    "os.chdir('/Users/KarolinaNaranjo/Library/Mobile Documents/com~apple~CloudDocs/DS/cc/annotated_data')"
   ]
  },
  {
   "cell_type": "markdown",
   "metadata": {},
   "source": [
    "### Combine Dataframes"
   ]
  },
  {
   "cell_type": "code",
   "execution_count": 3,
   "metadata": {},
   "outputs": [],
   "source": [
    "# get an unified dataframe with all documents\n",
    "df_test1_docs = pd.read_csv('documents_df_2023-12-03.csv')\n",
    "df_test2_docs = pd.read_csv('documents_df_2023-12-06.csv')\n",
    "\n",
    "df_test1_format = pd.read_csv('paragraphs_df_2023-12-03.csv')\n",
    "df_test2_format = pd.read_csv('paragraphs_df_2023-12-06.csv')\n",
    "\n",
    "df_test1_semantic = pd.read_csv('styles_df_2023-12-03.csv')\n",
    "df_test2_semantic = pd.read_csv('styles_df_2023-12-06.csv')"
   ]
  },
  {
   "cell_type": "code",
   "execution_count": 21,
   "metadata": {},
   "outputs": [],
   "source": [
    "def combine_dataframes(docs1_path, docs2_path, format1_path, format2_path, semantic1_path, semantic2_path):\n",
    "\n",
    "    # get an unified dataframe with all documents\n",
    "    df_test1_docs = pd.read_csv(docs1_path)\n",
    "    df_test2_docs = pd.read_csv(docs2_path)\n",
    "\n",
    "    df_test1_format = pd.read_csv(format1_path)\n",
    "    df_test2_format = pd.read_csv(format2_path)\n",
    "\n",
    "    df_test1_semantic = pd.read_csv(semantic1_path)\n",
    "    df_test2_semantic = pd.read_csv(semantic2_path)\n",
    "\n",
    "    # get length of each one of the first dataframes (the ones to add something to)\n",
    "    len_test1_docs = len(df_test1_docs)\n",
    "    len_test1_format = len(df_test1_format)\n",
    "    len_test1_semantic = len(df_test1_semantic)\n",
    "\n",
    "    # offset df_test2_docs id by len_test1\n",
    "    df_test2_docs['id'] = df_test2_docs['id'] + len_test1_docs\n",
    "\n",
    "\n",
    "    # offset df_test2_format \"document\" by len_test1\n",
    "    df_test2_format['document'] = df_test2_format['document'] + len_test1_docs\n",
    "    #offset df_test2_format \"id\" by len_test1_format\n",
    "    df_test2_format['id'] = df_test2_format['id'] + len_test1_format\n",
    "\n",
    "\n",
    "    # offset df_test2_semantic \"document\" by len_test1\n",
    "    df_test2_semantic['document'] = df_test2_semantic['document'] + len_test1_docs    \n",
    "    #offset df_test2_semantic \"id\" by len_test1_semantic\n",
    "    df_test2_semantic['id'] = df_test2_semantic['id'] + len_test1_semantic\n",
    "\n",
    "\n",
    "    # concatenate df_test1_docs and df_test2_docs, df_test1_format and df_test2_format, df_test1_semantic and df_test2_semantic\n",
    "    df_docs = pd.concat([df_test1_docs, df_test2_docs], ignore_index=True)\n",
    "    df_format = pd.concat([df_test1_format, df_test2_format], ignore_index=True)\n",
    "    df_semantic = pd.concat([df_test1_semantic, df_test2_semantic], ignore_index=True)\n",
    "\n",
    "    df_docs = df_docs[['id', 'name', 'type', 'year', 'num_sections', 'num_paragraphs']]\n",
    "    df_format=df_format[['id', 'document', 'paragraph_id', 'previous', 'next','length', 'document_pos', 'section', 'function', 'text']]\n",
    "    df_semantic=df_semantic[['id', 'document', 'paragraph_id', 'text_type', 'length', 'document_pos', 'paragraph_pos', 'function', 'text', 'section']]\n",
    "\n",
    "    return df_docs, df_format, df_semantic\n"
   ]
  },
  {
   "cell_type": "code",
   "execution_count": 22,
   "metadata": {},
   "outputs": [],
   "source": [
    "df_docs, df_format, df_semantic = combine_dataframes('documents_df_2023-12-03.csv', 'documents_df_2023-12-06.csv', \n",
    "                                                     'paragraphs_df_2023-12-03.csv', 'paragraphs_df_2023-12-06.csv', \n",
    "                                                     'styles_df_2023-12-03.csv', 'styles_df_2023-12-06.csv')"
   ]
  },
  {
   "cell_type": "code",
   "execution_count": 23,
   "metadata": {},
   "outputs": [],
   "source": [
    "# df_docs.to_csv('df_docs.csv', index=False)\n",
    "# df_format.to_csv('df_format.csv', index=False)\n",
    "# df_semantic.to_csv('df_semantic.csv', index=False)"
   ]
  },
  {
   "cell_type": "code",
   "execution_count": 40,
   "metadata": {},
   "outputs": [],
   "source": [
    "format_test1 =df_format.sample(frac=1)"
   ]
  },
  {
   "cell_type": "code",
   "execution_count": 42,
   "metadata": {},
   "outputs": [],
   "source": [
    "# split into train, val, test\n",
    "train= format_test1[:int(len(format_test1)*0.7)]\n",
    "val=df_format[int(len(format_test1)*0.7):int(len(format_test1)*0.9)]\n",
    "test=df_format[int(len(format_test1)*0.9):]"
   ]
  },
  {
   "cell_type": "markdown",
   "metadata": {},
   "source": [
    "### Fine-tuning data files"
   ]
  },
  {
   "cell_type": "code",
   "execution_count": 24,
   "metadata": {},
   "outputs": [],
   "source": [
    "def df_to_json(df_format,target='section',prompt=\"prediga a que sección pertenece el siguiente texto de la sentencia de la corte constitucional\"):\n",
    "    init_prompt=prompt\n",
    "    output=[]\n",
    "    for i in tqdm(df_format.index):\n",
    "        output.append({'instruction':init_prompt,\n",
    "                       \"input\":df_format.loc[i,'text'],\n",
    "                       \"output\":df_format.loc[i,target]}\n",
    "                       )\n",
    "    return output"
   ]
  },
  {
   "cell_type": "code",
   "execution_count": 25,
   "metadata": {},
   "outputs": [
    {
     "name": "stderr",
     "output_type": "stream",
     "text": [
      "100%|██████████| 388439/388439 [00:04<00:00, 88293.30it/s]\n"
     ]
    },
    {
     "name": "stdout",
     "output_type": "stream",
     "text": [
      "CPU times: user 5.12 s, sys: 136 ms, total: 5.26 s\n",
      "Wall time: 5.26 s\n"
     ]
    }
   ],
   "source": [
    "%%time\n",
    "result=df_to_json(df_format,target='section',prompt=\"prediga a que sección pertenece el siguiente texto de la sentencia de la corte constitucional\")"
   ]
  },
  {
   "cell_type": "code",
   "execution_count": 43,
   "metadata": {},
   "outputs": [
    {
     "name": "stderr",
     "output_type": "stream",
     "text": [
      "100%|██████████| 271907/271907 [00:03<00:00, 82598.91it/s]\n",
      "100%|██████████| 77688/77688 [00:00<00:00, 91146.85it/s]\n",
      "100%|██████████| 38844/38844 [00:00<00:00, 91716.86it/s]\n"
     ]
    }
   ],
   "source": [
    "train1_json=df_to_json(train)\n",
    "val1_json=df_to_json(val)\n",
    "test1_json=df_to_json(test)"
   ]
  },
  {
   "cell_type": "code",
   "execution_count": 44,
   "metadata": {},
   "outputs": [],
   "source": [
    "# save json data\n",
    "with open('train1.json','w') as jsonfile:\n",
    "    json.dump(train1_json,jsonfile)"
   ]
  },
  {
   "cell_type": "code",
   "execution_count": 45,
   "metadata": {},
   "outputs": [],
   "source": [
    "with open('val1.json','w') as jsonfile:\n",
    "    json.dump(val1_json,jsonfile)"
   ]
  },
  {
   "cell_type": "code",
   "execution_count": 46,
   "metadata": {},
   "outputs": [],
   "source": [
    "with open('test1.json','w') as jsonfile:\n",
    "    json.dump(test1_json,jsonfile)"
   ]
  },
  {
   "cell_type": "code",
   "execution_count": 13,
   "metadata": {},
   "outputs": [
    {
     "data": {
      "text/plain": [
       "3     Demanda de inconstitucionalidad de los artícu...\n",
       "3     Se reiterará la jurisprudencia de esta Corpor...\n",
       "Name: text, dtype: object"
      ]
     },
     "execution_count": 13,
     "metadata": {},
     "output_type": "execute_result"
    }
   ],
   "source": [
    "#get text where index is 0\n",
    "df_format.loc[3,'text']"
   ]
  },
  {
   "cell_type": "code",
   "execution_count": null,
   "id": "a34fadd3",
   "metadata": {},
   "outputs": [],
   "source": [
    "# Previous code to get the dataframes\n",
    "\n",
    "# data1=pd.read_csv('paragraphs_df_2023-12-03.csv')\n",
    "# data2=pd.read_csv('styles_df_2023-12-03.csv')\n",
    "# big_dataset=pd.concat([data1,data2],ignore_index=True)\n",
    "# # sample dataset\n",
    "# big_dataset=big_dataset.sample(frac=1)\n",
    "# big_dataset=pd.concat([data1,data2],ignore_index=True)\n",
    "# del big_dataset['Unnamed: 0']"
   ]
  },
  {
   "cell_type": "code",
   "execution_count": null,
   "id": "e2f3bf33",
   "metadata": {},
   "outputs": [],
   "source": [
    "data1['section'].value_counts()"
   ]
  },
  {
   "cell_type": "code",
   "execution_count": null,
   "id": "f59f6dda",
   "metadata": {},
   "outputs": [],
   "source": [
    "# def df_to_json(data1,target='section',prompt=\"predice la sección de la decisión judicial de la corte constitucional\"):\n",
    "#     init_prompt=prompt\n",
    "#     output=[]\n",
    "#     for i in tqdm(data1.index):\n",
    "#         output.append({'instruction':init_prompt,\"input\":data1.loc[i,'text'],\"output\":data1.loc[i,target]})\n",
    "#     return output\n",
    "        \n",
    "    "
   ]
  },
  {
   "cell_type": "code",
   "execution_count": null,
   "id": "24ccd0bf",
   "metadata": {},
   "outputs": [],
   "source": [
    "# result=df_to_json(train)"
   ]
  },
  {
   "cell_type": "code",
   "execution_count": null,
   "id": "ddfe8ec4",
   "metadata": {},
   "outputs": [],
   "source": [
    "# # save json data\n",
    "# with open('train.json','w') as jsonfile:\n",
    "#     json.dump(result,jsonfile)"
   ]
  },
  {
   "cell_type": "code",
   "execution_count": null,
   "id": "e83bfe96",
   "metadata": {},
   "outputs": [],
   "source": [
    "# results2=df_to_json(data2,target='text_type',prompt=\"detecte la anotación semántica del siguiente texto\")"
   ]
  },
  {
   "cell_type": "code",
   "execution_count": null,
   "id": "cf1d34cc",
   "metadata": {},
   "outputs": [],
   "source": [
    "# with open('semantic_annotation.json','w') as jsonfile:\n",
    "#     json.dump(results2,jsonfile)"
   ]
  },
  {
   "cell_type": "code",
   "execution_count": null,
   "id": "a06304db",
   "metadata": {},
   "outputs": [],
   "source": [
    "# with open('format_annotation.json','r') as gfile:\n",
    "#     content=json.load(gfile)"
   ]
  },
  {
   "cell_type": "code",
   "execution_count": null,
   "id": "676ffac8",
   "metadata": {},
   "outputs": [],
   "source": [
    "# content"
   ]
  }
 ],
 "metadata": {
  "kernelspec": {
   "display_name": "Python 3 (ipykernel)",
   "language": "python",
   "name": "python3"
  },
  "language_info": {
   "codemirror_mode": {
    "name": "ipython",
    "version": 3
   },
   "file_extension": ".py",
   "mimetype": "text/x-python",
   "name": "python",
   "nbconvert_exporter": "python",
   "pygments_lexer": "ipython3",
   "version": "3.11.5"
  }
 },
 "nbformat": 4,
 "nbformat_minor": 5
}
